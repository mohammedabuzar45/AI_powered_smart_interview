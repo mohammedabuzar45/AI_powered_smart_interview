{
  "nbformat": 4,
  "nbformat_minor": 0,
  "metadata": {
    "colab": {
      "provenance": [],
      "authorship_tag": "ABX9TyNsvKC5w7yTZXsDOZ2aL99z",
      "include_colab_link": true
    },
    "kernelspec": {
      "name": "python3",
      "display_name": "Python 3"
    },
    "language_info": {
      "name": "python"
    }
  },
  "cells": [
    {
      "cell_type": "markdown",
      "metadata": {
        "id": "view-in-github",
        "colab_type": "text"
      },
      "source": [
        "<a href=\"https://colab.research.google.com/github/mohammedabuzar45/AI_powered_smart_interview/blob/main/AI_powered.ipynb\" target=\"_parent\"><img src=\"https://colab.research.google.com/assets/colab-badge.svg\" alt=\"Open In Colab\"/></a>"
      ]
    },
    {
      "cell_type": "code",
      "source": [
        "# AI-Powered Smart Interview Guidance Assistant\n",
        "# Libraries\n",
        "import nltk\n",
        "import numpy as np\n",
        "import pandas as pd\n",
        "from sklearn.feature_extraction.text import TfidfVectorizer\n",
        "from sklearn.metrics.pairwise import cosine_similarity\n",
        "from textblob import TextBlob\n",
        "import random"
      ],
      "metadata": {
        "id": "YTqTvTizYik_"
      },
      "execution_count": null,
      "outputs": []
    },
    {
      "cell_type": "code",
      "source": [
        "\n",
        "# Download required NLTK resources\n",
        "nltk.download('punkt')"
      ],
      "metadata": {
        "colab": {
          "base_uri": "https://localhost:8080/"
        },
        "id": "uEPdm96qYnXM",
        "outputId": "0b817a35-3a33-4451-d239-897583a326c6"
      },
      "execution_count": null,
      "outputs": [
        {
          "output_type": "stream",
          "name": "stderr",
          "text": [
            "[nltk_data] Downloading package punkt to /root/nltk_data...\n",
            "[nltk_data]   Package punkt is already up-to-date!\n"
          ]
        },
        {
          "output_type": "execute_result",
          "data": {
            "text/plain": [
              "True"
            ]
          },
          "metadata": {},
          "execution_count": 3
        }
      ]
    },
    {
      "cell_type": "code",
      "source": [
        "# Step 1: Sample Interview Question Bank\n",
        "question_bank = {\n",
        "    \"Software Engineer\": [\n",
        "        \"Explain object-oriented programming.\",\n",
        "        \"What are the main principles of clean code?\",\n",
        "        \"Describe a challenge you faced in a coding project.\",\n",
        "    ],\n",
        "    \"Data Analyst\": [\n",
        "        \"What is data cleaning and why is it important?\",\n",
        "        \"Explain the difference between supervised and unsupervised learning.\",\n",
        "        \"How do you handle missing data in a dataset?\",\n",
        "    ],\n",
        "    \"HR\": [\n",
        "        \"Describe a time you resolved a workplace conflict.\",\n",
        "        \"How do you motivate employees?\",\n",
        "        \"What are the key qualities of a good leader?\",\n",
        "    ]\n",
        "}"
      ],
      "metadata": {
        "id": "idQ3DZA8Yq6_"
      },
      "execution_count": null,
      "outputs": []
    },
    {
      "cell_type": "code",
      "source": [
        "# Step 2: Get user job role\n",
        "print(\"Welcome to AI-Powered Smart Interview Guidance Assistant!\")\n",
        "job_role = input(\"Enter your desired job role (Software Engineer / Data Analyst / HR): \").strip()\n",
        "\n",
        "if job_role not in question_bank:\n",
        "    print(\"Role not found. Defaulting to Software Engineer.\")\n",
        "    job_role = \"Software Engineer\"\n",
        "\n",
        "questions = question_bank[job_role]\n",
        "print(\"\\nGreat! Let's begin your interview practice...\\n\")"
      ],
      "metadata": {
        "colab": {
          "base_uri": "https://localhost:8080/"
        },
        "id": "sFv_mK6xY7Wc",
        "outputId": "ffa132a3-9baf-411b-81aa-7746add9ffdb"
      },
      "execution_count": null,
      "outputs": [
        {
          "output_type": "stream",
          "name": "stdout",
          "text": [
            "Welcome to AI-Powered Smart Interview Guidance Assistant!\n",
            "Enter your desired job role (Software Engineer / Data Analyst / HR): software enginneer\n",
            "Role not found. Defaulting to Software Engineer.\n",
            "\n",
            "Great! Let's begin your interview practice...\n",
            "\n"
          ]
        }
      ]
    },
    {
      "cell_type": "code",
      "source": [
        "# Step 3: Conduct Interview\n",
        "responses = []\n",
        "feedback_list = []\n",
        "\n",
        "for q in questions:\n",
        "    print(f\"Question: {q}\")\n",
        "    ans = input(\"Your answer: \")\n",
        "    responses.append(ans)\n",
        "\n",
        "    # Analyze sentiment (tone)\n",
        "    blob = TextBlob(ans)\n",
        "    sentiment = blob.sentiment.polarity\n",
        "\n",
        "    # Confidence estimation (based on length and positivity)\n",
        "    confidence = np.clip(len(ans.split()) / 20 + sentiment, 0, 1)\n",
        "\n",
        "    # Generate feedback\n",
        "    if confidence < 0.4:\n",
        "        feedback = \"Try to be more detailed and confident in your response.\"\n",
        "    elif sentiment < 0:\n",
        "        feedback = \"Your tone seems negative; try to sound more optimistic.\"\n",
        "    else:\n",
        "        feedback = \"Good job! Keep your tone and clarity consistent.\"\n",
        "\n",
        "    feedback_list.append(feedback)\n",
        "    print(f\"Feedback: {feedback}\\n\")"
      ],
      "metadata": {
        "colab": {
          "base_uri": "https://localhost:8080/"
        },
        "id": "OxdE8TWRZAVu",
        "outputId": "ef707fcd-37e8-49a7-d35f-ecdf8158ac41"
      },
      "execution_count": null,
      "outputs": [
        {
          "output_type": "stream",
          "name": "stdout",
          "text": [
            "Question: Explain object-oriented programming.\n",
            "Your answer: [wopdjoui\n",
            "Feedback: Try to be more detailed and confident in your response.\n",
            "\n",
            "Question: What are the main principles of clean code?\n",
            "Your answer: pekocd[kp\n",
            "Feedback: Try to be more detailed and confident in your response.\n",
            "\n",
            "Question: Describe a challenge you faced in a coding project.\n",
            "Your answer: []SOPJDVON \n",
            "Feedback: Try to be more detailed and confident in your response.\n",
            "\n"
          ]
        }
      ]
    },
    {
      "cell_type": "code",
      "source": [
        "# Step 4: Scoring\n",
        "average_confidence = np.mean([np.clip(len(r.split()) / 20 + TextBlob(r).sentiment.polarity, 0, 1) for r in responses])\n",
        "score = round(average_confidence * 100, 2)\n",
        "\n",
        "print(\"========================================\")\n",
        "print(f\"Overall Interview Performance Score: {score}/100\")\n",
        "print(\"========================================\")\n",
        "print(\"\\nDetailed Feedback:\")\n",
        "for i, fb in enumerate(feedback_list):\n",
        "    print(f\"Q{i+1}: {fb}\")\n"
      ],
      "metadata": {
        "colab": {
          "base_uri": "https://localhost:8080/"
        },
        "id": "JozdQ_g9ZbvT",
        "outputId": "86f633ae-bd11-4d91-bce9-64ff3cd65140"
      },
      "execution_count": null,
      "outputs": [
        {
          "output_type": "stream",
          "name": "stdout",
          "text": [
            "========================================\n",
            "Overall Interview Performance Score: 5.0/100\n",
            "========================================\n",
            "\n",
            "Detailed Feedback:\n",
            "Q1: Try to be more detailed and confident in your response.\n",
            "Q2: Try to be more detailed and confident in your response.\n",
            "Q3: Try to be more detailed and confident in your response.\n"
          ]
        }
      ]
    },
    {
      "cell_type": "code",
      "source": [
        "if score < 50:\n",
        "    print(\"\\nSuggestions:\")\n",
        "    print(\"- Work on providing longer, more detailed answers.\")\n",
        "    print(\"- Improve tone positivity and sentence clarity.\")\n",
        "elif score < 80:\n",
        "    print(\"\\nSuggestions:\")\n",
        "    print(\"- You’re doing well! Try practicing more specific examples.\")\n",
        "else:\n",
        "    print(\"\\nExcellent performance! Keep refining your storytelling skills.\")"
      ],
      "metadata": {
        "colab": {
          "base_uri": "https://localhost:8080/"
        },
        "id": "yT38Tmd6aKZe",
        "outputId": "1b61bf80-c253-4174-b747-44183e57200c"
      },
      "execution_count": null,
      "outputs": [
        {
          "output_type": "stream",
          "name": "stdout",
          "text": [
            "\n",
            "Suggestions:\n",
            "- Work on providing longer, more detailed answers.\n",
            "- Improve tone positivity and sentence clarity.\n"
          ]
        }
      ]
    },
    {
      "cell_type": "code",
      "source": [],
      "metadata": {
        "id": "f0HesvYraSkN"
      },
      "execution_count": null,
      "outputs": []
    }
  ]
}